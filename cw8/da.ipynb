{
 "cells": [
  {
   "cell_type": "code",
   "execution_count": 46,
   "metadata": {},
   "outputs": [],
   "source": [
    "import pandas as pd\n",
    "import numpy as np\n",
    "import scipy.stats as sp\n",
    "import scipy.optimize as sp\n",
    "\n",
    "from matplotlib import pyplot as plt"
   ]
  },
  {
   "cell_type": "code",
   "execution_count": 33,
   "metadata": {},
   "outputs": [],
   "source": [
    "\n",
    "def calculate_oscilloscope_uncertainty(najpod, u_b = 0):\n",
    "    return np.sqrt((najpod**2 + u_b**2) /3) \n",
    "\n",
    "def calculate_analog_meter_uncertainties(klasa, zakres, najpod=0, u_be=0):\n",
    "    return np.sqrt(((klasa*zakres)**2 + najpod**2 + u_be**2)/3)\n",
    "\n",
    "def calculate_sole_b_uncertainty(series, u_b, u_be=0):\n",
    "    return np.sqrt(series/series*((u_b**2)/3 + (u_be**2)/3)) #returns a number\n",
    "\n",
    "def calculate_digital_meter_deltas(series, klasa, dgt):\n",
    "    delta_x = klasa * series + dgt\n",
    "    return series/series * delta_x\n",
    "    \n",
    "def calculate_digital_meter_uncertainties(series, klasa, dgt):\n",
    "    return calculate_digital_meter_deltas(series,klasa,dgt)/np.sqrt(3)\n",
    "\n",
    "def calculate_sanwa_uncertainties(series, c1, c2, zakres):\n",
    "    return (c1*series + c2*zakres)/np.sqrt(3)"
   ]
  },
  {
   "cell_type": "code",
   "execution_count": 42,
   "metadata": {},
   "outputs": [],
   "source": [
    "T_s = pd.DataFrame()\n",
    "T_m = pd.DataFrame()\n",
    "R = pd.DataFrame()\n",
    "\n",
    "T_s['T'] = [0,\n",
    "23,\n",
    "26.8,\n",
    "30,\n",
    "35,\n",
    "40,\n",
    "45,\n",
    "50,\n",
    "55,\n",
    "60,\n",
    "65,\n",
    "70,\n",
    "75,\n",
    "80,\n",
    "85,\n",
    "90,\n",
    "95,\n",
    "100,\n",
    "105,\n",
    "110,\n",
    "115,\n",
    "\n",
    "]\n",
    "T_m['T'] = [0,\n",
    "21.6,\n",
    "25.3,\n",
    "28.5,\n",
    "33.3,\n",
    "38.3,\n",
    "43.2,\n",
    "48.2,\n",
    "52.7,\n",
    "58.2,\n",
    "63.0,\n",
    "68.2,\n",
    "73.4,\n",
    "78.1,\n",
    "83.1,\n",
    "88.0,\n",
    "92.9,\n",
    "98.0,\n",
    "102.8,\n",
    "107.3\n",
    "]\n",
    "T_m['u'] = calculate_sole_b_uncertainty(T_m['T'], 1, 1)\n",
    "\n",
    "R['R'] = [30.18,\n",
    "17.55,\n",
    "15.77,\n",
    "14.15,\n",
    "12.30,\n",
    "10.62,\n",
    "9.32,\n",
    "8.05,\n",
    "7.20,\n",
    "6.14,\n",
    "5.55,\n",
    "4.80,\n",
    "4.25,\n",
    "3.810,\n",
    "3.361,\n",
    "3.012,\n",
    "2.669,\n",
    "2.378,\n",
    "2.137,\n",
    "1.945,\n",
    "]\n",
    "R *= 1000\n",
    "R['c1'] = [0.015 for x in R['R']]\n",
    "R['c2'] = [0.00125 for x in R['R']]\n",
    "R['zak'] = [ (40e3 if i <= 12 else 4e3) for i in range(len(R['R']))]\n",
    "R['u'] = calculate_sanwa_uncertainties(R['R'],R['c1'], R['c2'], R['zak'])\n",
    "\n",
    "T_s = T_s[1:]\n",
    "T_m = T_m[1:]\n",
    "R = R[1:]\n"
   ]
  },
  {
   "cell_type": "code",
   "execution_count": 65,
   "metadata": {},
   "outputs": [
    {
     "name": "stderr",
     "output_type": "stream",
     "text": [
      "/home/tobiaszfic/.local/lib/python3.10/site-packages/scipy/optimize/_minpack_py.py:833: OptimizeWarning: Covariance of the parameters could not be estimated\n",
      "  warnings.warn('Covariance of the parameters could not be estimated',\n"
     ]
    },
    {
     "data": {
      "image/png": "[encoded data removed]",
      "text/plain": [
       "<Figure size 576x432 with 1 Axes>"
      ]
     },
     "metadata": {
      "needs_background": "light"
     },
     "output_type": "display_data"
    }
   ],
   "source": [
    "\n",
    "fig, ax = plt.subplots(1,1, figsize =(8,6))\n",
    "\n",
    "dotcolor = 'orange'\n",
    "# ax.plot(T_m['T'],R['R']/1000, color = dotcolor)\n",
    "dotcolor = 'red'\n",
    "ax.scatter(T_m['T'],R['R']/1000, color = dotcolor)\n",
    "ax.errorbar(T_m['T'],R['R']/1000, xerr=T_m['u'], yerr=R['u']/1000, elinewidth=1, capthick=1, capsize=2, fmt='none')\n",
    "\n",
    "ax.set_xlabel(r'$T_m \\; [^oC]$')\n",
    "ax.set_ylabel(r'$R[k\\Omega]$')\n",
    "\n",
    "\n",
    "def func(x, a, b, c):\n",
    "    return a * np.exp(-b * x) + c\n",
    "\n",
    "popt, pcov = sp.curve_fit(func, T_m['T'], R['R'])\n",
    "\n",
    "# plt.savefig('out/charakterystyka_temp.jpg', dpi = 450)\n",
    "\n",
    "\n",
    "plt.grid()\n",
    "plt.show()"
   ]
  },
  {
   "cell_type": "markdown",
   "metadata": {},
   "source": [
    "ln R od 1/T\n",
    "do tego linefit\n"
   ]
  },
  {
   "cell_type": "code",
   "execution_count": null,
   "metadata": {},
   "outputs": [],
   "source": []
  },
  {
   "cell_type": "code",
   "execution_count": null,
   "metadata": {},
   "outputs": [],
   "source": []
  }
 ],
 "metadata": {
  "kernelspec": {
   "display_name": "Python 3.10.4 ('dataconda')",
   "language": "python",
   "name": "python3"
  },
  "language_info": {
   "codemirror_mode": {
    "name": "ipython",
    "version": 3
   },
   "file_extension": ".py",
   "mimetype": "text/x-python",
   "name": "python",
   "nbconvert_exporter": "python",
   "pygments_lexer": "ipython3",
   "version": "3.10.4"
  },
  "orig_nbformat": 4,
  "vscode": {
   "interpreter": {
    "hash": "06d5f6a7192f7da15f00af0bef5004458982aa75eb1affdf296843002ced5906"
   }
  }
 },
 "nbformat": 4,
 "nbformat_minor": 2
}
