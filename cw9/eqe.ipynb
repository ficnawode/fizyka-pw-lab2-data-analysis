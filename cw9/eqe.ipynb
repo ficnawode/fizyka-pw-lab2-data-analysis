{
 "cells": [
  {
   "cell_type": "code",
   "execution_count": 1,
   "metadata": {},
   "outputs": [],
   "source": [
    "import pandas as pd\n",
    "import numpy as np\n",
    "from matplotlib import pyplot as plt"
   ]
  },
  {
   "cell_type": "markdown",
   "metadata": {},
   "source": [
    "# Część 2\n",
    "\n",
    "1. Zmierzyć fotoprąd wytwarzany w ogniwie w funkcji długości fali w zakresie 4000-\n",
    "1200 nm. Wartości długości fali dobrać tak, aby punkty pomiarowe były równomiernie\n",
    "i wystarczająco gęsto (nie rzadziej niż co 0,05 eV) rozłożone w skali energii.\n",
    "2. Wykorzystując plik photon flux zawierający rozkład spektralny światła padającego\n",
    "na próbkę, wykonać wykres rozkładu fotoprądu w funkcji energii padających fotonów\n",
    "znormalizowany na jeden padający foton (ponieważ nie znamy dokładnej liczby\n",
    "fotonów padających na strukturę, możemy jedynie określić ten rozkład w jednostkach\n",
    "dowolnych)\n",
    "3. Wyznaczyć wartość przerwy energetycznej absorbera posługując się metodą „w\n",
    "połowie krawędzi”.\n",
    "4. Wyznaczyć energię odpowiadającą wysokoenergetycznej krawędzi rozkładu. Czemu\n",
    "on odpowiada?\n",
    "5. Porównać wartość Voc(T) dla T->0 z wartością przerwy energetycznej otrzymaną\n",
    "z ekstrapolacji zależności Voc(T) do 0oK, wyciągnąć wnioski."
   ]
  }
 ],
 "metadata": {
  "kernelspec": {
   "display_name": "Python 3.10.4 ('dataconda')",
   "language": "python",
   "name": "python3"
  },
  "language_info": {
   "codemirror_mode": {
    "name": "ipython",
    "version": 3
   },
   "file_extension": ".py",
   "mimetype": "text/x-python",
   "name": "python",
   "nbconvert_exporter": "python",
   "pygments_lexer": "ipython3",
   "version": "3.10.4"
  },
  "orig_nbformat": 4,
  "vscode": {
   "interpreter": {
    "hash": "06d5f6a7192f7da15f00af0bef5004458982aa75eb1affdf296843002ced5906"
   }
  }
 },
 "nbformat": 4,
 "nbformat_minor": 2
}
