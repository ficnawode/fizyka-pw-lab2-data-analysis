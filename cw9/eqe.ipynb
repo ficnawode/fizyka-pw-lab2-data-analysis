{
 "cells": [
  {
   "cell_type": "code",
   "execution_count": 1,
   "metadata": {},
   "outputs": [],
   "source": [
    "import pandas as pd\n",
    "import numpy as np\n",
    "from matplotlib import pyplot as plt\n",
    "import scipy.stats"
   ]
  },
  {
   "cell_type": "markdown",
   "metadata": {},
   "source": [
    "# Część 2\n",
    "\n",
    "1. Zmierzyć fotoprąd wytwarzany w ogniwie w funkcji długości fali w zakresie 4000-\n",
    "1200 nm. Wartości długości fali dobrać tak, aby punkty pomiarowe były równomiernie\n",
    "i wystarczająco gęsto (nie rzadziej niż co 0,05 eV) rozłożone w skali energii."
   ]
  },
  {
   "cell_type": "markdown",
   "metadata": {},
   "source": [
    "\n",
    "2. Wykorzystując plik photon flux zawierający rozkład spektralny światła padającego\n",
    "na próbkę, wykonać wykres rozkładu fotoprądu w funkcji energii padających fotonów\n",
    "znormalizowany na jeden padający foton (ponieważ nie znamy dokładnej liczby\n",
    "fotonów padających na strukturę, możemy jedynie określić ten rozkład w jednostkach\n",
    "dowolnych)\n"
   ]
  },
  {
   "cell_type": "code",
   "execution_count": 2,
   "metadata": {},
   "outputs": [
    {
     "data": {
      "text/html": [
       "<div>\n",
       "<style scoped>\n",
       "    .dataframe tbody tr th:only-of-type {\n",
       "        vertical-align: middle;\n",
       "    }\n",
       "\n",
       "    .dataframe tbody tr th {\n",
       "        vertical-align: top;\n",
       "    }\n",
       "\n",
       "    .dataframe thead th {\n",
       "        text-align: right;\n",
       "    }\n",
       "</style>\n",
       "<table border=\"1\" class=\"dataframe\">\n",
       "  <thead>\n",
       "    <tr style=\"text-align: right;\">\n",
       "      <th></th>\n",
       "      <th>lambda</th>\n",
       "      <th>flux</th>\n",
       "      <th>U[mV]</th>\n",
       "      <th>zakres</th>\n",
       "      <th>EQE</th>\n",
       "    </tr>\n",
       "  </thead>\n",
       "  <tbody>\n",
       "    <tr>\n",
       "      <th>0</th>\n",
       "      <td>0.000002</td>\n",
       "      <td>10.45</td>\n",
       "      <td>0.57</td>\n",
       "      <td>200</td>\n",
       "      <td>0.054545</td>\n",
       "    </tr>\n",
       "    <tr>\n",
       "      <th>1</th>\n",
       "      <td>0.000002</td>\n",
       "      <td>12.50</td>\n",
       "      <td>0.66</td>\n",
       "      <td>200</td>\n",
       "      <td>0.052800</td>\n",
       "    </tr>\n",
       "    <tr>\n",
       "      <th>2</th>\n",
       "      <td>0.000002</td>\n",
       "      <td>15.90</td>\n",
       "      <td>0.76</td>\n",
       "      <td>200</td>\n",
       "      <td>0.047799</td>\n",
       "    </tr>\n",
       "    <tr>\n",
       "      <th>3</th>\n",
       "      <td>0.000002</td>\n",
       "      <td>20.20</td>\n",
       "      <td>0.93</td>\n",
       "      <td>200</td>\n",
       "      <td>0.046040</td>\n",
       "    </tr>\n",
       "    <tr>\n",
       "      <th>4</th>\n",
       "      <td>0.000002</td>\n",
       "      <td>23.20</td>\n",
       "      <td>1.14</td>\n",
       "      <td>200</td>\n",
       "      <td>0.049138</td>\n",
       "    </tr>\n",
       "  </tbody>\n",
       "</table>\n",
       "</div>"
      ],
      "text/plain": [
       "     lambda   flux  U[mV]  zakres       EQE\n",
       "0  0.000002  10.45   0.57     200  0.054545\n",
       "1  0.000002  12.50   0.66     200  0.052800\n",
       "2  0.000002  15.90   0.76     200  0.047799\n",
       "3  0.000002  20.20   0.93     200  0.046040\n",
       "4  0.000002  23.20   1.14     200  0.049138"
      ]
     },
     "execution_count": 2,
     "metadata": {},
     "output_type": "execute_result"
    }
   ],
   "source": [
    "eqe = pd.read_csv('in/EQE/eqe.csv')\n",
    "eqe['lambda'] *= 1e-6 #convert to m\n",
    "eqe[:5]"
   ]
  },
  {
   "cell_type": "code",
   "execution_count": 3,
   "metadata": {},
   "outputs": [
    {
     "data": {
      "text/html": [
       "<div>\n",
       "<style scoped>\n",
       "    .dataframe tbody tr th:only-of-type {\n",
       "        vertical-align: middle;\n",
       "    }\n",
       "\n",
       "    .dataframe tbody tr th {\n",
       "        vertical-align: top;\n",
       "    }\n",
       "\n",
       "    .dataframe thead th {\n",
       "        text-align: right;\n",
       "    }\n",
       "</style>\n",
       "<table border=\"1\" class=\"dataframe\">\n",
       "  <thead>\n",
       "    <tr style=\"text-align: right;\">\n",
       "      <th></th>\n",
       "      <th>lambda</th>\n",
       "      <th>flux</th>\n",
       "      <th>U[mV]</th>\n",
       "      <th>zakres</th>\n",
       "      <th>EQE</th>\n",
       "      <th>E</th>\n",
       "    </tr>\n",
       "  </thead>\n",
       "  <tbody>\n",
       "    <tr>\n",
       "      <th>0</th>\n",
       "      <td>0.000002</td>\n",
       "      <td>10.45</td>\n",
       "      <td>0.57</td>\n",
       "      <td>200</td>\n",
       "      <td>0.054545</td>\n",
       "      <td>0.618331</td>\n",
       "    </tr>\n",
       "    <tr>\n",
       "      <th>1</th>\n",
       "      <td>0.000002</td>\n",
       "      <td>12.50</td>\n",
       "      <td>0.66</td>\n",
       "      <td>200</td>\n",
       "      <td>0.052800</td>\n",
       "      <td>0.650875</td>\n",
       "    </tr>\n",
       "    <tr>\n",
       "      <th>2</th>\n",
       "      <td>0.000002</td>\n",
       "      <td>15.90</td>\n",
       "      <td>0.76</td>\n",
       "      <td>200</td>\n",
       "      <td>0.047799</td>\n",
       "      <td>0.687034</td>\n",
       "    </tr>\n",
       "    <tr>\n",
       "      <th>3</th>\n",
       "      <td>0.000002</td>\n",
       "      <td>20.20</td>\n",
       "      <td>0.93</td>\n",
       "      <td>200</td>\n",
       "      <td>0.046040</td>\n",
       "      <td>0.727448</td>\n",
       "    </tr>\n",
       "    <tr>\n",
       "      <th>4</th>\n",
       "      <td>0.000002</td>\n",
       "      <td>23.20</td>\n",
       "      <td>1.14</td>\n",
       "      <td>200</td>\n",
       "      <td>0.049138</td>\n",
       "      <td>0.772914</td>\n",
       "    </tr>\n",
       "  </tbody>\n",
       "</table>\n",
       "</div>"
      ],
      "text/plain": [
       "     lambda   flux  U[mV]  zakres       EQE         E\n",
       "0  0.000002  10.45   0.57     200  0.054545  0.618331\n",
       "1  0.000002  12.50   0.66     200  0.052800  0.650875\n",
       "2  0.000002  15.90   0.76     200  0.047799  0.687034\n",
       "3  0.000002  20.20   0.93     200  0.046040  0.727448\n",
       "4  0.000002  23.20   1.14     200  0.049138  0.772914"
      ]
     },
     "execution_count": 3,
     "metadata": {},
     "output_type": "execute_result"
    }
   ],
   "source": [
    "h = 6.62607015e-34 #m2 kg / s\n",
    "c = 2.99e8 #m/s\n",
    "\n",
    "def J_to_eV(E):\n",
    "    return 6.242e+18*E\n",
    "\n",
    "eqe['E']=J_to_eV(h*c/eqe['lambda'])\n",
    "eqe[:5]"
   ]
  },
  {
   "cell_type": "markdown",
   "metadata": {},
   "source": [
    "3. Wyznaczyć wartość przerwy energetycznej absorbera posługując się metodą „w\n",
    "połowie krawędzi”."
   ]
  },
  {
   "cell_type": "code",
   "execution_count": 4,
   "metadata": {},
   "outputs": [
    {
     "name": "stdout",
     "output_type": "stream",
     "text": [
      "      lambda  flux   U[mV]  zakres      EQE         E  eqe_minus_mid\n",
      "17  0.000001  16.0  2166.0   20000  135.375  1.166662      11.262306\n"
     ]
    },
    {
     "data": {
      "image/png": "[encoded data removed]",
      "text/plain": [
       "<Figure size 576x432 with 1 Axes>"
      ]
     },
     "metadata": {
      "needs_background": "light"
     },
     "output_type": "display_data"
    },
    {
     "data": {
      "text/plain": [
       "146.6373055162657"
      ]
     },
     "execution_count": 4,
     "metadata": {},
     "output_type": "execute_result"
    }
   ],
   "source": [
    "\n",
    "plt.figure(figsize=(8,6))\n",
    "\n",
    "dotcolor = 'green'\n",
    "dotsize = 2\n",
    "plt.plot(eqe['E'], eqe['EQE'], linewidth=dotsize, color = dotcolor)\n",
    "\n",
    "plt.xlabel(r'$E \\; [eV]$')\n",
    "plt.ylabel(r'$EQE \\; [a.u.]$')\n",
    "\n",
    "eqe_min = eqe['EQE'].min()\n",
    "eqe_max = eqe['EQE'].max()\n",
    "eqe_mid = (eqe_min + eqe_max)/2\n",
    "\n",
    "eqe['eqe_minus_mid'] = eqe['EQE'] - eqe_mid\n",
    "eqe['eqe_minus_mid'] = eqe['eqe_minus_mid'].abs()\n",
    "\n",
    "E_g_slice = eqe.loc[eqe['eqe_minus_mid'] == eqe['eqe_minus_mid'].min()]\n",
    "\n",
    "print(E_g_slice)\n",
    "\n",
    "dotcolor = 'red'\n",
    "plt.scatter(E_g_slice['E'], E_g_slice['EQE'], label=r'$E_g$', color=dotcolor, s=30)\n",
    "estimated_u_E = [0.03]\n",
    "estimated_u_EQE = [50]\n",
    "plt.errorbar(E_g_slice['E'], E_g_slice['EQE'], xerr=estimated_u_E, yerr=estimated_u_EQE, label=r'$u_{E_g}$ (estimated) ' , color='black', elinewidth=1, capsize=3, capthick=1, fmt='none')\n",
    "\n",
    "plt.legend()\n",
    "\n",
    "plt.savefig('out/img/wyk_eqe_od_E.jpg', dpi=350)\n",
    "plt.show()\n",
    "eqe_mid"
   ]
  },
  {
   "cell_type": "markdown",
   "metadata": {},
   "source": [
    "\n",
    "4. Wyznaczyć energię odpowiadającą wysokoenergetycznej krawędzi rozkładu. Czemu\n",
    "on odpowiada?"
   ]
  },
  {
   "cell_type": "markdown",
   "metadata": {},
   "source": [
    "\n",
    "5. Porównać wartość Voc(T) dla T->0 z wartością przerwy energetycznej otrzymaną\n",
    "z ekstrapolacji zależności Voc(T) do 0oK, wyciągnąć wnioski."
   ]
  },
  {
   "cell_type": "code",
   "execution_count": 5,
   "metadata": {},
   "outputs": [
    {
     "data": {
      "text/html": [
       "<div>\n",
       "<style scoped>\n",
       "    .dataframe tbody tr th:only-of-type {\n",
       "        vertical-align: middle;\n",
       "    }\n",
       "\n",
       "    .dataframe tbody tr th {\n",
       "        vertical-align: top;\n",
       "    }\n",
       "\n",
       "    .dataframe thead th {\n",
       "        text-align: right;\n",
       "    }\n",
       "</style>\n",
       "<table border=\"1\" class=\"dataframe\">\n",
       "  <thead>\n",
       "    <tr style=\"text-align: right;\">\n",
       "      <th></th>\n",
       "      <th>T</th>\n",
       "      <th>u_T</th>\n",
       "      <th>Uoc</th>\n",
       "      <th>Isc</th>\n",
       "      <th>Imp</th>\n",
       "      <th>Ump</th>\n",
       "      <th>max_power</th>\n",
       "      <th>FF</th>\n",
       "      <th>eta</th>\n",
       "    </tr>\n",
       "  </thead>\n",
       "  <tbody>\n",
       "    <tr>\n",
       "      <th>0</th>\n",
       "      <td>288.15</td>\n",
       "      <td>0.57735</td>\n",
       "      <td>0.59</td>\n",
       "      <td>-0.002402</td>\n",
       "      <td>-0.001993</td>\n",
       "      <td>0.40</td>\n",
       "      <td>-0.000797</td>\n",
       "      <td>0.562506</td>\n",
       "      <td>0.159421</td>\n",
       "    </tr>\n",
       "    <tr>\n",
       "      <th>1</th>\n",
       "      <td>298.15</td>\n",
       "      <td>0.57735</td>\n",
       "      <td>0.57</td>\n",
       "      <td>-0.002390</td>\n",
       "      <td>-0.001895</td>\n",
       "      <td>0.39</td>\n",
       "      <td>-0.000739</td>\n",
       "      <td>0.542619</td>\n",
       "      <td>0.147816</td>\n",
       "    </tr>\n",
       "    <tr>\n",
       "      <th>2</th>\n",
       "      <td>308.15</td>\n",
       "      <td>0.57735</td>\n",
       "      <td>0.54</td>\n",
       "      <td>-0.002383</td>\n",
       "      <td>-0.001895</td>\n",
       "      <td>0.36</td>\n",
       "      <td>-0.000682</td>\n",
       "      <td>0.530060</td>\n",
       "      <td>0.136446</td>\n",
       "    </tr>\n",
       "    <tr>\n",
       "      <th>3</th>\n",
       "      <td>318.15</td>\n",
       "      <td>0.57735</td>\n",
       "      <td>0.52</td>\n",
       "      <td>-0.002353</td>\n",
       "      <td>-0.001846</td>\n",
       "      <td>0.34</td>\n",
       "      <td>-0.000628</td>\n",
       "      <td>0.513039</td>\n",
       "      <td>0.125544</td>\n",
       "    </tr>\n",
       "    <tr>\n",
       "      <th>4</th>\n",
       "      <td>328.15</td>\n",
       "      <td>0.57735</td>\n",
       "      <td>0.49</td>\n",
       "      <td>-0.002329</td>\n",
       "      <td>-0.001797</td>\n",
       "      <td>0.32</td>\n",
       "      <td>-0.000575</td>\n",
       "      <td>0.504099</td>\n",
       "      <td>0.115034</td>\n",
       "    </tr>\n",
       "    <tr>\n",
       "      <th>5</th>\n",
       "      <td>338.15</td>\n",
       "      <td>0.57735</td>\n",
       "      <td>0.47</td>\n",
       "      <td>-0.002310</td>\n",
       "      <td>-0.001804</td>\n",
       "      <td>0.29</td>\n",
       "      <td>-0.000523</td>\n",
       "      <td>0.481686</td>\n",
       "      <td>0.104603</td>\n",
       "    </tr>\n",
       "    <tr>\n",
       "      <th>6</th>\n",
       "      <td>348.15</td>\n",
       "      <td>0.57735</td>\n",
       "      <td>0.44</td>\n",
       "      <td>-0.002292</td>\n",
       "      <td>-0.001749</td>\n",
       "      <td>0.27</td>\n",
       "      <td>-0.000472</td>\n",
       "      <td>0.468161</td>\n",
       "      <td>0.094422</td>\n",
       "    </tr>\n",
       "  </tbody>\n",
       "</table>\n",
       "</div>"
      ],
      "text/plain": [
       "        T      u_T   Uoc       Isc       Imp   Ump  max_power        FF  \\\n",
       "0  288.15  0.57735  0.59 -0.002402 -0.001993  0.40  -0.000797  0.562506   \n",
       "1  298.15  0.57735  0.57 -0.002390 -0.001895  0.39  -0.000739  0.542619   \n",
       "2  308.15  0.57735  0.54 -0.002383 -0.001895  0.36  -0.000682  0.530060   \n",
       "3  318.15  0.57735  0.52 -0.002353 -0.001846  0.34  -0.000628  0.513039   \n",
       "4  328.15  0.57735  0.49 -0.002329 -0.001797  0.32  -0.000575  0.504099   \n",
       "5  338.15  0.57735  0.47 -0.002310 -0.001804  0.29  -0.000523  0.481686   \n",
       "6  348.15  0.57735  0.44 -0.002292 -0.001749  0.27  -0.000472  0.468161   \n",
       "\n",
       "        eta  \n",
       "0  0.159421  \n",
       "1  0.147816  \n",
       "2  0.136446  \n",
       "3  0.125544  \n",
       "4  0.115034  \n",
       "5  0.104603  \n",
       "6  0.094422  "
      ]
     },
     "execution_count": 5,
     "metadata": {},
     "output_type": "execute_result"
    }
   ],
   "source": [
    "def C_to_K(x):\n",
    "    return x + 273.15\n",
    "\n",
    "#read temperature data for plot and line fit\n",
    "temp_params = pd.read_csv('out/csv/params_temp.csv')\n",
    "temp_params['T'] = C_to_K(temp_params['T'])\n",
    "temp_params"
   ]
  },
  {
   "cell_type": "code",
   "execution_count": 6,
   "metadata": {},
   "outputs": [
    {
     "data": {
      "image/png": "[encoded data removed]",
      "text/plain": [
       "<Figure size 576x432 with 1 Axes>"
      ]
     },
     "metadata": {
      "needs_background": "light"
     },
     "output_type": "display_data"
    },
    {
     "name": "stdout",
     "output_type": "stream",
     "text": [
      "E_g = 1.311(0.018) eV\n"
     ]
    }
   ],
   "source": [
    "\n",
    "plt.figure(figsize=(8,6))\n",
    "\n",
    "dotcolor = 'purple'\n",
    "dotsize = 30\n",
    "plt.scatter(temp_params['T'], temp_params['Uoc'], label=r'$U_{oc}$',s=dotsize, color = dotcolor)\n",
    "plt.errorbar(temp_params['T'], temp_params['Uoc'],xerr=temp_params['u_T'],capthick=0.5,capsize=2,elinewidth=0.5, color='black', fmt=\"none\")\n",
    "\n",
    "fit = scipy.stats.linregress(temp_params['T'], temp_params['Uoc'])\n",
    "\n",
    "x_fit = range(3,350)\n",
    "y_fit = fit.slope*x_fit + fit.intercept\n",
    "plt.plot(x_fit,y_fit, linewidth=1, color = dotcolor, linestyle=':')\n",
    "\n",
    "Ug = [fit.intercept]\n",
    "u_Ug = [fit.intercept_stderr]\n",
    "plt.scatter(0,Ug,label=r'$U_g$',s=30,color='red')\n",
    "plt.errorbar(0,Ug,yerr=u_Ug,label=r'$U_{U_g}$ ($u_a$)',elinewidth=1,capsize = 3, capthick=1,color='black')\n",
    "\n",
    "plt.xlabel(r'$T \\; [K]$')\n",
    "plt.ylabel(r'$U_{oc} \\; [V]$')\n",
    "\n",
    "plt.legend()\n",
    "\n",
    "plt.savefig('out/img/wyk_Uoc_od_T_linefit_Eg.jpg', dpi = 350)\n",
    "plt.show()\n",
    "\n",
    "\n",
    "Eg = J_to_eV( 1.6e-19 * Ug[0])\n",
    "u_Eg = J_to_eV( 1.6e-19 * u_Ug[0]) #propagacja niepewności\n",
    "\n",
    "print(f'E_g = {Eg:.3f}({u_Eg:.3f}) eV')"
   ]
  },
  {
   "cell_type": "markdown",
   "metadata": {},
   "source": [
    "# Conclusion\n",
    "\n",
    "from line fit we obtaib $E_g = 1.311(0.018) eV$\n",
    "\n",
    "and from our EQE plot we estimated that $E_g = 1.118 (0.03) eV$\n",
    "\n",
    "these values are off byt not ridiculously so."
   ]
  },
  {
   "cell_type": "code",
   "execution_count": null,
   "metadata": {},
   "outputs": [],
   "source": []
  }
 ],
 "metadata": {
  "kernelspec": {
   "display_name": "Python 3.10.4 ('dataconda')",
   "language": "python",
   "name": "python3"
  },
  "language_info": {
   "codemirror_mode": {
    "name": "ipython",
    "version": 3
   },
   "file_extension": ".py",
   "mimetype": "text/x-python",
   "name": "python",
   "nbconvert_exporter": "python",
   "pygments_lexer": "ipython3",
   "version": "3.10.4 | packaged by conda-forge | (main, Mar 24 2022, 17:38:57) [GCC 10.3.0]"
  },
  "orig_nbformat": 4,
  "vscode": {
   "interpreter": {
    "hash": "06d5f6a7192f7da15f00af0bef5004458982aa75eb1affdf296843002ced5906"
   }
  }
 },
 "nbformat": 4,
 "nbformat_minor": 2
}
