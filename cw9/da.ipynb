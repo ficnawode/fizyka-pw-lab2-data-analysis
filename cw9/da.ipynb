{
 "cells": [
  {
   "cell_type": "code",
   "execution_count": 1,
   "metadata": {},
   "outputs": [],
   "source": [
    "import pandas as pd\n",
    "import numpy as np"
   ]
  },
  {
   "cell_type": "markdown",
   "metadata": {},
   "source": [
    "1. wykonać pomiary charakterystyk prądowo-napięciowych\n",
    "\n",
    "intensywność światła $1064 W/m^2$ \n",
    "\n",
    "zakres charakterystyki $<-0.1 , 0.9> V$ \n",
    "\n",
    "pomiary $15 - 75$ co $ 10^o C$, wszystkie w pliku `temp/`"
   ]
  },
  {
   "cell_type": "code",
   "execution_count": 3,
   "metadata": {},
   "outputs": [
    {
     "data": {
      "text/html": [
       "<div>\n",
       "<style scoped>\n",
       "    .dataframe tbody tr th:only-of-type {\n",
       "        vertical-align: middle;\n",
       "    }\n",
       "\n",
       "    .dataframe tbody tr th {\n",
       "        vertical-align: top;\n",
       "    }\n",
       "\n",
       "    .dataframe thead th {\n",
       "        text-align: right;\n",
       "    }\n",
       "</style>\n",
       "<table border=\"1\" class=\"dataframe\">\n",
       "  <thead>\n",
       "    <tr style=\"text-align: right;\">\n",
       "      <th></th>\n",
       "      <th>U</th>\n",
       "    </tr>\n",
       "  </thead>\n",
       "  <tbody>\n",
       "    <tr>\n",
       "      <th>0</th>\n",
       "      <td>-1.000000e+00</td>\n",
       "    </tr>\n",
       "    <tr>\n",
       "      <th>1</th>\n",
       "      <td>-9.000000e-01</td>\n",
       "    </tr>\n",
       "    <tr>\n",
       "      <th>2</th>\n",
       "      <td>-8.000000e-01</td>\n",
       "    </tr>\n",
       "    <tr>\n",
       "      <th>3</th>\n",
       "      <td>-7.000000e-01</td>\n",
       "    </tr>\n",
       "    <tr>\n",
       "      <th>4</th>\n",
       "      <td>-6.000000e-01</td>\n",
       "    </tr>\n",
       "    <tr>\n",
       "      <th>5</th>\n",
       "      <td>-5.000000e-01</td>\n",
       "    </tr>\n",
       "    <tr>\n",
       "      <th>6</th>\n",
       "      <td>-4.000000e-01</td>\n",
       "    </tr>\n",
       "    <tr>\n",
       "      <th>7</th>\n",
       "      <td>-3.000000e-01</td>\n",
       "    </tr>\n",
       "    <tr>\n",
       "      <th>8</th>\n",
       "      <td>-2.000000e-01</td>\n",
       "    </tr>\n",
       "    <tr>\n",
       "      <th>9</th>\n",
       "      <td>-1.000000e-01</td>\n",
       "    </tr>\n",
       "    <tr>\n",
       "      <th>10</th>\n",
       "      <td>-2.220446e-16</td>\n",
       "    </tr>\n",
       "    <tr>\n",
       "      <th>11</th>\n",
       "      <td>1.000000e-01</td>\n",
       "    </tr>\n",
       "    <tr>\n",
       "      <th>12</th>\n",
       "      <td>2.000000e-01</td>\n",
       "    </tr>\n",
       "    <tr>\n",
       "      <th>13</th>\n",
       "      <td>3.000000e-01</td>\n",
       "    </tr>\n",
       "    <tr>\n",
       "      <th>14</th>\n",
       "      <td>4.000000e-01</td>\n",
       "    </tr>\n",
       "    <tr>\n",
       "      <th>15</th>\n",
       "      <td>5.000000e-01</td>\n",
       "    </tr>\n",
       "    <tr>\n",
       "      <th>16</th>\n",
       "      <td>6.000000e-01</td>\n",
       "    </tr>\n",
       "    <tr>\n",
       "      <th>17</th>\n",
       "      <td>7.000000e-01</td>\n",
       "    </tr>\n",
       "    <tr>\n",
       "      <th>18</th>\n",
       "      <td>8.000000e-01</td>\n",
       "    </tr>\n",
       "    <tr>\n",
       "      <th>19</th>\n",
       "      <td>9.000000e-01</td>\n",
       "    </tr>\n",
       "  </tbody>\n",
       "</table>\n",
       "</div>"
      ],
      "text/plain": [
       "               U\n",
       "0  -1.000000e+00\n",
       "1  -9.000000e-01\n",
       "2  -8.000000e-01\n",
       "3  -7.000000e-01\n",
       "4  -6.000000e-01\n",
       "5  -5.000000e-01\n",
       "6  -4.000000e-01\n",
       "7  -3.000000e-01\n",
       "8  -2.000000e-01\n",
       "9  -1.000000e-01\n",
       "10 -2.220446e-16\n",
       "11  1.000000e-01\n",
       "12  2.000000e-01\n",
       "13  3.000000e-01\n",
       "14  4.000000e-01\n",
       "15  5.000000e-01\n",
       "16  6.000000e-01\n",
       "17  7.000000e-01\n",
       "18  8.000000e-01\n",
       "19  9.000000e-01"
      ]
     },
     "execution_count": 3,
     "metadata": {},
     "output_type": "execute_result"
    }
   ],
   "source": [
    "U = pd.DataFrame({\n",
    "    'U': np.arange(-1,1,0.1)\n",
    "})\n",
    "U"
   ]
  },
  {
   "cell_type": "markdown",
   "metadata": {},
   "source": []
  },
  {
   "cell_type": "code",
   "execution_count": 4,
   "metadata": {},
   "outputs": [
    {
     "data": {
      "text/html": [
       "<div>\n",
       "<style scoped>\n",
       "    .dataframe tbody tr th:only-of-type {\n",
       "        vertical-align: middle;\n",
       "    }\n",
       "\n",
       "    .dataframe tbody tr th {\n",
       "        vertical-align: top;\n",
       "    }\n",
       "\n",
       "    .dataframe thead th {\n",
       "        text-align: right;\n",
       "    }\n",
       "</style>\n",
       "<table border=\"1\" class=\"dataframe\">\n",
       "  <thead>\n",
       "    <tr style=\"text-align: right;\">\n",
       "      <th></th>\n",
       "      <th>5C</th>\n",
       "      <th>15C</th>\n",
       "      <th>25C</th>\n",
       "      <th>35C</th>\n",
       "      <th>45C</th>\n",
       "      <th>55C</th>\n",
       "      <th>65C</th>\n",
       "      <th>75C</th>\n",
       "      <th>85C</th>\n",
       "    </tr>\n",
       "  </thead>\n",
       "  <tbody>\n",
       "  </tbody>\n",
       "</table>\n",
       "</div>"
      ],
      "text/plain": [
       "Empty DataFrame\n",
       "Columns: [5C, 15C, 25C, 35C, 45C, 55C, 65C, 75C, 85C]\n",
       "Index: []"
      ]
     },
     "execution_count": 4,
     "metadata": {},
     "output_type": "execute_result"
    }
   ],
   "source": [
    "I_temp = pd.DataFrame({\n",
    "    \"5C\": [\n",
    "    ],\n",
    "    \"15C\": [\n",
    "    ],\n",
    "    \"25C\": [\n",
    "    ],\n",
    "    \"35C\": [\n",
    "    ],\n",
    "    \"45C\": [\n",
    "    ],\n",
    "    \"55C\": [\n",
    "    ],\n",
    "    \"65C\": [\n",
    "    ],\n",
    "    \"75C\": [\n",
    "    ],\n",
    "    \"85C\": [\n",
    "    ],\n",
    "})\n",
    "I_temp"
   ]
  },
  {
   "cell_type": "markdown",
   "metadata": {},
   "source": [
    "2. Wyznaczyć parametry:\n",
    "\n",
    "Short Circuit Current:\n",
    "\n",
    "$I_{sc} = ? $\n",
    "\n",
    "Open Circuit Voltage:\n",
    "\n",
    "$V_{oc} = \\dfrac{A k_B T}{e} \\ln{\\left( \\dfrac{I_{sc}}{I_o} + 1 \\right)} \\approx \\dfrac{A k_B T}{e} \\ln{ \\dfrac{I_{sc}}{I_o} }$\n",
    "\n",
    "\n",
    "Współczynnik wypełnienia:\n",
    "\n",
    "$FF = \\dfrac{I_{mp} V_{mp}}{I_{sc} V_{sc}}$\n",
    "\n",
    "Wydajność:\n",
    "\n",
    "$\\eta = \\dfrac{I_{mp} V_{mp}}{P_{in}}$\n",
    "\n",
    "$I_{mp}$ , $U_{mp}$ - maximum power current and voltage, respectively\n",
    "\n",
    "$P_{in}$ - moc promieniowania padająca na ogniwo"
   ]
  },
  {
   "cell_type": "markdown",
   "metadata": {},
   "source": [
    "3. Dla temp 25^o C wykonać serię charakterystyk dla różnych natężeń światła, aby prąd zwarcia zmniejszał się o czynnik 2\n",
    "\n",
    "$\\{0,125,250,500,1000\\}$, saved in `light/`"
   ]
  },
  {
   "cell_type": "code",
   "execution_count": null,
   "metadata": {},
   "outputs": [],
   "source": [
    "I_light = pd.DataFrame({\n",
    "    \n",
    "})"
   ]
  },
  {
   "cell_type": "markdown",
   "metadata": {},
   "source": [
    "4. Obliczyć wydajność ogniwa dla różnych natężeń światła, zakładając\n",
    "proporcjonalność między Isc a natężeniem światła. Wyciągnąć wnioski dotyczące\n",
    "działania ogniwa przy słabszym oświetleniu."
   ]
  },
  {
   "cell_type": "markdown",
   "metadata": {},
   "source": [
    "\n",
    "5. Porównać ciemną charakterystykę z jasnymi i wyciągnąć wnioski dotyczące\n",
    "„zasady superpozycji” dla badanego ogniwa."
   ]
  },
  {
   "cell_type": "markdown",
   "metadata": {},
   "source": [
    "# Część 2\n",
    "\n",
    "1. Zmierzyć fotoprąd wytwarzany w ogniwie w funkcji długości fali w zakresie 4000-\n",
    "1200 nm. Wartości długości fali dobrać tak, aby punkty pomiarowe były równomiernie\n",
    "i wystarczająco gęsto (nie rzadziej niż co 0,05 eV) rozłożone w skali energii."
   ]
  },
  {
   "cell_type": "code",
   "execution_count": null,
   "metadata": {},
   "outputs": [],
   "source": [
    "I_photo= pd.DataFrame({\n",
    "    \n",
    "})"
   ]
  },
  {
   "cell_type": "markdown",
   "metadata": {},
   "source": [
    "2. Wykorzystując plik photon flux zawierający rozkład spektralny światła padającego\n",
    "na próbkę, wykonać wykres rozkładu fotoprądu w funkcji energii padających fotonów\n",
    "znormalizowany na jeden padający foton (ponieważ nie znamy dokładnej liczby\n",
    "fotonów padających na strukturę, możemy jedynie określić ten rozkład w jednostkach\n",
    "dowolnych)"
   ]
  },
  {
   "cell_type": "markdown",
   "metadata": {},
   "source": [
    "3. Wyznaczyć wartość przerwy energetycznej absorbera posługując się metodą „w\n",
    "połowie krawędzi”."
   ]
  },
  {
   "cell_type": "markdown",
   "metadata": {},
   "source": [
    "4. Wyznaczyć energię odpowiadającą wysokoenergetycznej krawędzi rozkładu. Czemu\n",
    "on odpowiada?"
   ]
  },
  {
   "cell_type": "markdown",
   "metadata": {},
   "source": [
    "5. Porównać wartość Voc(T) dla T->0 z wartością przerwy energetycznej otrzymaną\n",
    "z ekstrapolacji zależności Voc(T) do 0oK, wyciągnąć wnioski."
   ]
  },
  {
   "cell_type": "markdown",
   "metadata": {},
   "source": []
  }
 ],
 "metadata": {
  "kernelspec": {
   "display_name": "Python 3.10.4 ('dataconda')",
   "language": "python",
   "name": "python3"
  },
  "language_info": {
   "codemirror_mode": {
    "name": "ipython",
    "version": 3
   },
   "file_extension": ".py",
   "mimetype": "text/x-python",
   "name": "python",
   "nbconvert_exporter": "python",
   "pygments_lexer": "ipython3",
   "version": "3.10.4"
  },
  "orig_nbformat": 4,
  "vscode": {
   "interpreter": {
    "hash": "06d5f6a7192f7da15f00af0bef5004458982aa75eb1affdf296843002ced5906"
   }
  }
 },
 "nbformat": 4,
 "nbformat_minor": 2
}
